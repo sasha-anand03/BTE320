{
  "cells": [
    {
      "cell_type": "markdown",
      "metadata": {
        "id": "view-in-github",
        "colab_type": "text"
      },
      "source": [
        "<a href=\"https://colab.research.google.com/github/sasha-anand03/BTE320/blob/main/in_class_assignment.ipynb\" target=\"_parent\"><img src=\"https://colab.research.google.com/assets/colab-badge.svg\" alt=\"Open In Colab\"/></a>"
      ]
    },
    {
      "cell_type": "code",
      "execution_count": null,
      "metadata": {
        "id": "6gzXR4i5BD8s"
      },
      "outputs": [],
      "source": [
        "pi=3.14\n",
        "radius = float(input('please provide the radius'))\n",
        "height =float(input('please provide the height'))\n",
        "\n",
        "area =2 * pi * raidus ** 2 + 2 * pi * radius * height\n",
        "\n",
        "print (f'Area of cylinder: {area} sq.ft')"
      ]
    },
    {
      "cell_type": "code",
      "execution_count": null,
      "metadata": {
        "colab": {
          "base_uri": "https://localhost:8080/"
        },
        "id": "6lL8rW3gMJoi",
        "outputId": "4bbfe2c0-cba9-4e6d-c85d-7d3d965fa610"
      },
      "outputs": [
        {
          "name": "stdout",
          "output_type": "stream",
          "text": [
            "Do you want to play game (yes/no)yes\n",
            "player 1- choose between rock/paper/scissors:rock \n",
            "player 2- choose betewen rock/paper/scissors:scissors\n",
            "player 2 wins\n",
            "Do you want to play the game again (yes/no)no\n"
          ]
        }
      ],
      "source": [
        "play = input('Do you want to play game (yes/no)')\n",
        "\n",
        "while play == 'yes':\n",
        "  P1 = input ('player 1- choose between rock/paper/scissors:')\n",
        "  P2 = input ('player 2- choose betewen rock/paper/scissors:')\n",
        "\n",
        "  if P1 == P2:\n",
        "    print ('draw')\n",
        "  elif P1 == 'rock' and P2 == 'scissors':\n",
        "    print ('player 1 wins')\n",
        "  elif P1 == 'paper' and P2 == 'rock':\n",
        "    print ('player 1 wins')\n",
        "  elif P1 == 'scissors' and P2 == 'paper':\n",
        "    print ('player 1 wins')\n",
        "  else:\n",
        "    print ('player 2 wins')\n",
        "\n",
        "  play = input ('Do you want to play the game again (yes/no)')"
      ]
    },
    {
      "cell_type": "code",
      "execution_count": null,
      "metadata": {
        "colab": {
          "background_save": true,
          "base_uri": "https://localhost:8080/"
        },
        "id": "gul9MAsdRHvk",
        "outputId": "27bb457d-35d8-4630-e082-8dad1f0942c4"
      },
      "outputs": [
        {
          "output_type": "stream",
          "name": "stdout",
          "text": [
            "Do you want to play game (yes/no)yes\n",
            "player 1- choose between rock/paper/scissors:paper\n",
            "draw\n",
            "Do you want to play the game again (yes/no)yes\n",
            "player 1- choose between rock/paper/scissors:rock\n",
            "Computer wins\n",
            "Do you want to play the game again (yes/no)yes\n",
            "player 1- choose between rock/paper/scissors:scissors\n",
            "draw\n"
          ]
        }
      ],
      "source": [
        "import random\n",
        "\n",
        "play = input('Do you want to play game (yes/no)')\n",
        "\n",
        "while play == 'yes':\n",
        "  P1 = input ('player 1- choose between rock/paper/scissors:')\n",
        "  P2 = random.choice (['rock', 'paper', 'scissors'])\n",
        "\n",
        "  if P1 == P2:\n",
        "    print ('draw')\n",
        "  elif ((P1 == 'rock' and P2 == 'scissors') or (P1 == 'paper' and P2 == 'rock') or (P1 == 'scissors' and P2 == 'paper')):\n",
        "    print ('Player wins')\n",
        "  else:\n",
        "    print ('Computer wins')\n",
        "\n",
        "  play = input ('Do you want to play the game again (yes/no)')"
      ]
    },
    {
      "cell_type": "code",
      "source": [
        "lst = []\n",
        "\n",
        "num = float(input('give a number:'))\n",
        "\n",
        "while num !=0:\n",
        "  lst.append(num)\n",
        "  num = float(input('give a number:'))\n",
        "lst.sort(reverse=true)\n",
        "print(lst)"
      ],
      "metadata": {
        "id": "aYefJ_BVPJHa"
      },
      "execution_count": null,
      "outputs": []
    },
    {
      "cell_type": "code",
      "source": [
        "lst = []\n",
        "\n",
        "while True:\n",
        "  num = float(input('give a number'))\n",
        "  lst.append(num)\n",
        "  if num == 0:\n",
        "    break\n",
        "lst.sort(reverse=true)\n",
        "print(lst)"
      ],
      "metadata": {
        "id": "7SgSK1E2TqlR"
      },
      "execution_count": null,
      "outputs": []
    },
    {
      "cell_type": "code",
      "source": [
        "def calcfee(hours):\n",
        "  fee= 5+ 2.5*hours\n",
        "  if fee < 10:\n",
        "    fee =10.0\n",
        "  elif fee >=20.0:\n",
        "    fee =20.0\n",
        "  print (f'fee:{fee}$')\n",
        "\n",
        "def main():\n",
        "numHours = int(input('how many hours'))\n",
        "calcfee(numHours)\n",
        "\n",
        "main()"
      ],
      "metadata": {
        "colab": {
          "base_uri": "https://localhost:8080/"
        },
        "id": "awoU4ZO5mkK5",
        "outputId": "a151dc13-db87-4a86-8967-27d153931a9a"
      },
      "execution_count": null,
      "outputs": [
        {
          "output_type": "stream",
          "name": "stdout",
          "text": [
            "program starts...\n",
            "how many hours4\n",
            "fee:15.0$\n"
          ]
        }
      ]
    },
    {
      "cell_type": "code",
      "source": [
        "def reverse(s):\n",
        "  if len(s) <= 1:\n",
        "    return s\n",
        "  else:\n",
        "    # return s[-1]+ reverse(s[1:-1]) + s[0]\n",
        "    return reverse(s[1:]) + s[0]\n",
        "\n",
        "reverse('hello')"
      ],
      "metadata": {
        "id": "WTWDyEADmkOU",
        "outputId": "7da29b6c-2885-4330-8c61-5e7f131c65b5",
        "colab": {
          "base_uri": "https://localhost:8080/",
          "height": 36
        }
      },
      "execution_count": 1,
      "outputs": [
        {
          "output_type": "execute_result",
          "data": {
            "text/plain": [
              "'olleh'"
            ],
            "application/vnd.google.colaboratory.intrinsic+json": {
              "type": "string"
            }
          },
          "metadata": {},
          "execution_count": 1
        }
      ]
    }
  ],
  "metadata": {
    "colab": {
      "provenance": [],
      "authorship_tag": "ABX9TyPFToKm9UUA/JfQ2gO25YsF",
      "include_colab_link": true
    },
    "kernelspec": {
      "display_name": "Python 3",
      "name": "python3"
    },
    "language_info": {
      "name": "python"
    }
  },
  "nbformat": 4,
  "nbformat_minor": 0
}