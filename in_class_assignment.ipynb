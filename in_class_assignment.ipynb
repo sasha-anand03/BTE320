{
  "cells": [
    {
      "cell_type": "markdown",
      "metadata": {
        "id": "view-in-github",
        "colab_type": "text"
      },
      "source": [
        "<a href=\"https://colab.research.google.com/github/sasha-anand03/BTE320/blob/main/in_class_assignment.ipynb\" target=\"_parent\"><img src=\"https://colab.research.google.com/assets/colab-badge.svg\" alt=\"Open In Colab\"/></a>"
      ]
    },
    {
      "cell_type": "code",
      "execution_count": null,
      "metadata": {
        "id": "6gzXR4i5BD8s"
      },
      "outputs": [],
      "source": [
        "pi=3.14\n",
        "radius = float(input('please provide the radius'))\n",
        "height =float(input('please provide the height'))\n",
        "\n",
        "area =2 * pi * raidus ** 2 + 2 * pi * radius * height\n",
        "\n",
        "print (f'Area of cylinder: {area} sq.ft')"
      ]
    },
    {
      "cell_type": "code",
      "execution_count": null,
      "metadata": {
        "colab": {
          "background_save": true,
          "base_uri": "https://localhost:8080/"
        },
        "id": "lw_PSMVU8wqf",
        "outputId": "e79f8a23-8751-4f5e-dc1c-04c6bb095304"
      },
      "outputs": [
        {
          "name": "stdout",
          "output_type": "stream",
          "text": [
            "2.0\n"
          ]
        }
      ],
      "source": [
        "while True:\n",
        "  userNum1 = float(input(\"Enter the first number:\"))\n",
        "  userOperator = str(input(\"Enter an operator:\"))\n",
        "\n",
        "  if userOperator == \"break\":\n",
        "    print(\"Thanks for using our calculator\")\n",
        "    break\n",
        "\n",
        "  userNum2 = float(input(\"Enter a second number:\"))\n",
        "\n",
        "  if userOperator == \"+\":\n",
        "    answer = userNum1 + userNum2\n",
        "  elif userOperator == \"-\":\n",
        "    answer = userNum1 - userNum2\n",
        "  elif userOperator == \"*\":\n",
        "    answer = userNum1 * userNum2\n",
        "  elif userOpeator == \"/\":\n",
        "    if userNum2 == 0:\n",
        "      print(\"Cant divide by zero. Try again.\")\n",
        "      continue\n",
        "    answer = userNum1 / userNum2\n",
        "  elif userOperator == \"//\":\n",
        "    if userNum2 == 0:\n",
        "      print (\"Cant divide by zero. Try again\")\n",
        "      continue\n",
        "    answer = userNum1 // userNum2\n",
        "  elif userOperator == \"%\":\n",
        "    if userNum2 == 0:\n",
        "      print (\"Cant divide by zero. Try again\")\n",
        "      continue\n",
        "    answer = userNum1 % userNum2\n",
        "  elif userOperator == \"**\":\n",
        "    answer = userNum1 ** userNum2\n",
        "  else:\n",
        "    print (\"Invalid Operator:\",userOperator)\n",
        "    continue\n",
        "  print(answer)\n",
        "\n"
      ]
    },
    {
      "cell_type": "code",
      "execution_count": null,
      "metadata": {
        "colab": {
          "base_uri": "https://localhost:8080/"
        },
        "id": "9awcbxdvGbK7",
        "outputId": "21e240d8-5acd-4e10-ed96-3603d619ea68"
      },
      "outputs": [
        {
          "name": "stdout",
          "output_type": "stream",
          "text": [
            "7 20\n",
            "8 20\n"
          ]
        }
      ],
      "source": [
        "flatRate = 5\n",
        "hourlyRate = 2.5\n",
        "\n",
        "for h in range(1,9):\n",
        "  charge = flatRate + hourlyRate * h\n",
        "  if charge < 10:\n",
        "    charge = 10\n",
        "  elif charge > 20:\n",
        "    charge = 20\n",
        "    print(h, charge)"
      ]
    },
    {
      "cell_type": "code",
      "execution_count": null,
      "metadata": {
        "colab": {
          "base_uri": "https://localhost:8080/"
        },
        "id": "19PJbRrWHMql",
        "outputId": "68003d8b-f7aa-47eb-a03b-daef1d4be07f"
      },
      "outputs": [
        {
          "name": "stdout",
          "output_type": "stream",
          "text": [
            "Ad$ Profit\n",
            "0.0$1800.0\n",
            "25.0$2775.0\n",
            "50.0$3150.0\n",
            "75.0$3525.0\n",
            "100.0$3700.0\n",
            "125.0$3875.0\n",
            "150.0$4050.0\n",
            "175.0$4225.0\n",
            "200.0$4400.0\n"
          ]
        }
      ],
      "source": [
        "print(f'Ad$ Profit')\n",
        "\n",
        "init_attendees = 20\n",
        "fixed_cost = 200\n",
        "\n",
        "for advertising in range(0,201,25):\n",
        "  ad = float(advertising)\n",
        "  attendees = float(2*round(advertising**0.5) + init_attendees)\n",
        "  profit= float((attendees *100)-advertising- fixed_cost)\n",
        "  print(f'{ad}${profit}')"
      ]
    },
    {
      "cell_type": "code",
      "execution_count": null,
      "metadata": {
        "colab": {
          "base_uri": "https://localhost:8080/"
        },
        "id": "6lL8rW3gMJoi",
        "outputId": "4bbfe2c0-cba9-4e6d-c85d-7d3d965fa610"
      },
      "outputs": [
        {
          "name": "stdout",
          "output_type": "stream",
          "text": [
            "Do you want to play game (yes/no)yes\n",
            "player 1- choose between rock/paper/scissors:rock \n",
            "player 2- choose betewen rock/paper/scissors:scissors\n",
            "player 2 wins\n",
            "Do you want to play the game again (yes/no)no\n"
          ]
        }
      ],
      "source": [
        "play = input('Do you want to play game (yes/no)')\n",
        "\n",
        "while play == 'yes':\n",
        "  P1 = input ('player 1- choose between rock/paper/scissors:')\n",
        "  P2 = input ('player 2- choose betewen rock/paper/scissors:')\n",
        "\n",
        "  if P1 == P2:\n",
        "    print ('draw')\n",
        "  elif P1 == 'rock' and P2 == 'scissors':\n",
        "    print ('player 1 wins')\n",
        "  elif P1 == 'paper' and P2 == 'rock':\n",
        "    print ('player 1 wins')\n",
        "  elif P1 == 'scissors' and P2 == 'paper':\n",
        "    print ('player 1 wins')\n",
        "  else:\n",
        "    print ('player 2 wins')\n",
        "\n",
        "  play = input ('Do you want to play the game again (yes/no)')"
      ]
    },
    {
      "cell_type": "code",
      "execution_count": null,
      "metadata": {
        "colab": {
          "background_save": true,
          "base_uri": "https://localhost:8080/"
        },
        "id": "gul9MAsdRHvk",
        "outputId": "27bb457d-35d8-4630-e082-8dad1f0942c4"
      },
      "outputs": [
        {
          "name": "stdout",
          "output_type": "stream",
          "text": [
            "Do you want to play game (yes/no)yes\n",
            "player 1- choose between rock/paper/scissors:paper\n",
            "draw\n",
            "Do you want to play the game again (yes/no)yes\n",
            "player 1- choose between rock/paper/scissors:rock\n",
            "Computer wins\n",
            "Do you want to play the game again (yes/no)yes\n",
            "player 1- choose between rock/paper/scissors:scissors\n",
            "draw\n"
          ]
        }
      ],
      "source": [
        "import random\n",
        "\n",
        "play = input('Do you want to play game (yes/no)')\n",
        "\n",
        "while play == 'yes':\n",
        "  P1 = input ('player 1- choose between rock/paper/scissors:')\n",
        "  P2 = random.choice (['rock', 'paper', 'scissors'])\n",
        "\n",
        "  if P1 == P2:\n",
        "    print ('draw')\n",
        "  elif ((P1 == 'rock' and P2 == 'scissors') or (P1 == 'paper' and P2 == 'rock') or (P1 == 'scissors' and P2 == 'paper')):\n",
        "    print ('Player wins')\n",
        "  else:\n",
        "    print ('Computer wins')\n",
        "\n",
        "  play = input ('Do you want to play the game again (yes/no)')"
      ]
    },
    {
      "cell_type": "code",
      "execution_count": null,
      "metadata": {
        "id": "aYefJ_BVPJHa"
      },
      "outputs": [],
      "source": [
        "lst = []\n",
        "\n",
        "num = float(input('give a number:'))\n",
        "\n",
        "while num !=0:\n",
        "  lst.append(num)\n",
        "  num = float(input('give a number:'))\n",
        "lst.sort(reverse=true)\n",
        "print(lst)"
      ]
    },
    {
      "cell_type": "code",
      "execution_count": null,
      "metadata": {
        "id": "7SgSK1E2TqlR"
      },
      "outputs": [],
      "source": [
        "lst = []\n",
        "\n",
        "while True:\n",
        "  num = float(input('give a number'))\n",
        "  lst.append(num)\n",
        "  if num == 0:\n",
        "    break\n",
        "lst.sort(reverse=true)\n",
        "print(lst)"
      ]
    },
    {
      "cell_type": "code",
      "execution_count": null,
      "metadata": {
        "colab": {
          "base_uri": "https://localhost:8080/"
        },
        "id": "4Rb-dpn6IEAY",
        "outputId": "70cf3a7e-d6e3-43fb-ddae-e8ef90327541"
      },
      "outputs": [
        {
          "name": "stdout",
          "output_type": "stream",
          "text": [
            "{1: 'January', 2: 'February', 3: 'March', 4: 'April', 5: 'May', 6: 'June', 7: 'July', 8: 'August', 9: 'September', 10: 'October', 11: 'November', 12: 'December'}\n"
          ]
        }
      ],
      "source": [
        "months = {}\n",
        "numbers = [1,2,3,4,5,6,7,8,9,10,11,12]\n",
        "names = ['January','February','March','April','May','June','July','August','September','October','November','December']\n",
        "\n",
        "for i in range (len(numbers)):\n",
        "  months[numbers[i]]= names [i]\n",
        "print(months)"
      ]
    },
    {
      "cell_type": "code",
      "execution_count": null,
      "metadata": {
        "colab": {
          "base_uri": "https://localhost:8080/"
        },
        "id": "6mU3BsmBI1N2",
        "outputId": "4bfd531b-fbd3-4742-8bc9-e6a1c673e0b1"
      },
      "outputs": [
        {
          "name": "stdout",
          "output_type": "stream",
          "text": [
            "Give a string:hello\n",
            "Give a string:hello\n",
            "Give a string:2\n",
            "Give a string:2\n",
            "Give a string:2\n",
            "Give a string:2\n",
            "Give a string:2'\n"
          ]
        }
      ],
      "source": [
        "counts = {}\n",
        "\n",
        "while len(counts) < 5:\n",
        "  key = input(\"Give a string:\")\n",
        "\n",
        "  if key not in counts:\n",
        "    counts[key] = 1\n",
        "  else:\n",
        "    counts[key] += 1\n",
        "counts"
      ]
    },
    {
      "cell_type": "code",
      "execution_count": null,
      "metadata": {
        "colab": {
          "base_uri": "https://localhost:8080/"
        },
        "id": "awoU4ZO5mkK5",
        "outputId": "a151dc13-db87-4a86-8967-27d153931a9a"
      },
      "outputs": [
        {
          "name": "stdout",
          "output_type": "stream",
          "text": [
            "program starts...\n",
            "how many hours4\n",
            "fee:15.0$\n"
          ]
        }
      ],
      "source": [
        "def calcfee(hours):\n",
        "  fee= 5+ 2.5*hours\n",
        "  if fee < 10:\n",
        "    fee =10.0\n",
        "  elif fee >=20.0:\n",
        "    fee =20.0\n",
        "  print (f'fee:{fee}$')\n",
        "\n",
        "def main():\n",
        "numHours = int(input('how many hours'))\n",
        "calcfee(numHours)\n",
        "\n",
        "main()"
      ]
    },
    {
      "cell_type": "code",
      "execution_count": null,
      "metadata": {
        "colab": {
          "base_uri": "https://localhost:8080/",
          "height": 36
        },
        "id": "WTWDyEADmkOU",
        "outputId": "7da29b6c-2885-4330-8c61-5e7f131c65b5"
      },
      "outputs": [
        {
          "data": {
            "application/vnd.google.colaboratory.intrinsic+json": {
              "type": "string"
            },
            "text/plain": [
              "'olleh'"
            ]
          },
          "execution_count": 1,
          "metadata": {},
          "output_type": "execute_result"
        }
      ],
      "source": [
        "def reverse(s):\n",
        "  if len(s) <= 1:\n",
        "    return s\n",
        "  else:\n",
        "    # return s[-1]+ reverse(s[1:-1]) + s[0]\n",
        "    return reverse(s[1:]) + s[0]\n",
        "\n",
        "reverse('hello')"
      ]
    },
    {
      "cell_type": "code",
      "execution_count": null,
      "metadata": {
        "colab": {
          "base_uri": "https://localhost:8080/"
        },
        "id": "7sJ5w3p6ZYPz",
        "outputId": "f16dc41f-7c32-41d2-9f48-3325a426fd1a"
      },
      "outputs": [
        {
          "name": "stdout",
          "output_type": "stream",
          "text": [
            "Hello Donald Becker\n",
            "Donald,Becker\n"
          ]
        }
      ],
      "source": [
        "class Greeting:\n",
        "  def __init__(self,first,last):\n",
        "    self.first = first\n",
        "    self.last = last\n",
        "\n",
        "\n",
        "  def display(self,formal=False):\n",
        "    if formal:\n",
        "      print(f'Hello {self.first} {self.last}')\n",
        "    else:\n",
        "      print(f'Hi {self.first}')\n",
        "\n",
        "  def __str__(self):\n",
        "    return f'{self.first},{self.last}'\n",
        "\n",
        "  def __repr__(self):\n",
        "    return self.__str__()\n",
        "\n",
        "greeting = Greeting('Donald', 'Becker')\n",
        "greeting.display(formal=True)\n",
        "print(greeting)"
      ]
    },
    {
      "cell_type": "code",
      "execution_count": null,
      "metadata": {
        "colab": {
          "base_uri": "https://localhost:8080/"
        },
        "id": "FYkW9xBLXrGA",
        "outputId": "fcf13451-bc8d-4d29-a72b-4890326351bd"
      },
      "outputs": [
        {
          "output_type": "execute_result",
          "data": {
            "text/plain": [
              "('James', 666)"
            ]
          },
          "metadata": {},
          "execution_count": 1
        }
      ],
      "source": [
        "class Student:\n",
        "  def __init__(self,name,number,courses):\n",
        "    self.name=name\n",
        "    self.number=number\n",
        "    self.__courses=[]\n",
        "  def enroll(self,course):\n",
        "    if course in self.__courses:\n",
        "      print(\"You have already enrolled in this course\")\n",
        "    else:\n",
        "      self.__courses.append(course)\n",
        "  def get_courses(self):\n",
        "    return self.__courses\n",
        "  def get_number(self,number):\n",
        "    return self.__number\n",
        "  def set_number(self,number):\n",
        "    newnumber=self.__number\\\n",
        "\n",
        "s1= Student (\"James\",666,\"BTE320\")\n",
        "s1.name,s1.number\n"
      ]
    },
    {
      "cell_type": "code",
      "execution_count": null,
      "metadata": {
        "colab": {
          "base_uri": "https://localhost:8080/"
        },
        "id": "MBop7ZpHYNNm",
        "outputId": "fe76128a-490f-4409-fd1c-45b55ef4d4ba"
      },
      "outputs": [
        {
          "name": "stdout",
          "output_type": "stream",
          "text": [
            "You have already enrolled in this course\n",
            "You have already enrolled in this course\n",
            "You have already enrolled in this course\n"
          ]
        },
        {
          "data": {
            "text/plain": [
              "['BTE320', 'BTE400']"
            ]
          },
          "execution_count": 8,
          "metadata": {},
          "output_type": "execute_result"
        }
      ],
      "source": [
        "s1.enroll(\"BTE320\")\n",
        "s1.enroll(\"BTE400\")\n",
        "s1.enroll(\"BTE320\")\n",
        "s1.get_courses()"
      ]
    },
    {
      "cell_type": "code",
      "execution_count": null,
      "metadata": {
        "colab": {
          "base_uri": "https://localhost:8080/"
        },
        "id": "gd0f7urXZyaj",
        "outputId": "d6c7e03c-a4b8-49c5-99b6-767a8a7fac3c"
      },
      "outputs": [
        {
          "data": {
            "text/plain": [
              "['BTE320', 'BTE400']"
            ]
          },
          "execution_count": 9,
          "metadata": {},
          "output_type": "execute_result"
        }
      ],
      "source": [
        "s1.get_courses()"
      ]
    },
    {
      "cell_type": "code",
      "execution_count": null,
      "metadata": {
        "colab": {
          "base_uri": "https://localhost:8080/"
        },
        "id": "DWEfuHhOZ0Ec",
        "outputId": "d4f913ab-9791-4dbc-a2ef-a2dd5b2d34fc"
      },
      "outputs": [
        {
          "data": {
            "text/plain": [
              "5.0"
            ]
          },
          "execution_count": 1,
          "metadata": {},
          "output_type": "execute_result"
        }
      ],
      "source": [
        "import math\n",
        "class Point:\n",
        "  def __init__(self,x,y):\n",
        "    self.x = x\n",
        "    self.y = y\n",
        "  def distance(self,other):\n",
        "    return math.sqrt((self.x-other.x)**2+(self.y-other.y)**2)\n",
        "x=Point(0,0)\n",
        "y=Point(3,4)\n",
        "Point.distance(x,y)"
      ]
    },
    {
      "cell_type": "code",
      "execution_count": null,
      "metadata": {
        "colab": {
          "base_uri": "https://localhost:8080/",
          "height": 36
        },
        "id": "GANyUtEAZLd8",
        "outputId": "57bd53cc-ee58-436e-c759-c3317b4c0e4d"
      },
      "outputs": [
        {
          "data": {
            "application/vnd.google.colaboratory.intrinsic+json": {
              "type": "string"
            },
            "text/plain": [
              "'Area: 4.0 sq.ft. '"
            ]
          },
          "execution_count": 4,
          "metadata": {},
          "output_type": "execute_result"
        }
      ],
      "source": [
        "import math\n",
        "class Rectangle:\n",
        "  def __init__(self):\n",
        "    self.c1=Point(0,0)\n",
        "    self.c2=Point(0,2)\n",
        "    self.c3=Point(2,0)\n",
        "    self.c4=Point(2,2)\n",
        "\n",
        "  def width(self):\n",
        "    return self.c1.distance(self.c2)\n",
        "  def length(self):\n",
        "    return self.c1.distance(self.c3)\n",
        "  def area(self):\n",
        "    return f'Area: {self.width()*self.length()} sq.ft. '\n",
        "\n",
        "square=Rectangle()\n",
        "square.area()"
      ]
    }
  ],
  "metadata": {
    "colab": {
      "provenance": [],
      "authorship_tag": "ABX9TyMWgPBbMBGwGETJnWkhygby",
      "include_colab_link": true
    },
    "kernelspec": {
      "display_name": "Python 3",
      "name": "python3"
    },
    "language_info": {
      "name": "python"
    }
  },
  "nbformat": 4,
  "nbformat_minor": 0
}